{
  "nbformat": 4,
  "nbformat_minor": 0,
  "metadata": {
    "colab": {
      "provenance": [],
      "authorship_tag": "ABX9TyNGD+Ru+yZClscGz572kwXL",
      "include_colab_link": true
    },
    "kernelspec": {
      "name": "python3",
      "display_name": "Python 3"
    },
    "language_info": {
      "name": "python"
    }
  },
  "cells": [
    {
      "cell_type": "markdown",
      "metadata": {
        "id": "view-in-github",
        "colab_type": "text"
      },
      "source": [
        "<a href=\"https://colab.research.google.com/github/abhinav9898/DataEngg/blob/master/DE_Guvi_DB_Postgres_AWS_RDS.ipynb\" target=\"_parent\"><img src=\"https://colab.research.google.com/assets/colab-badge.svg\" alt=\"Open In Colab\"/></a>"
      ]
    },
    {
      "cell_type": "code",
      "execution_count": 1,
      "metadata": {
        "id": "_up_6UZUmpbm"
      },
      "outputs": [],
      "source": [
        "import psycopg2"
      ]
    },
    {
      "cell_type": "code",
      "source": [
        "connection= psycopg2.connect(host=\"database-1.cusmkejbbnvy.ap-south-1.rds.amazonaws.com\",user=\"postgres\",password=\"postgres1806\",port=5432,database=\"masterdata\")"
      ],
      "metadata": {
        "id": "Jd4ct6oom15m"
      },
      "execution_count": 5,
      "outputs": []
    },
    {
      "cell_type": "code",
      "source": [
        "curr= connection.cursor()"
      ],
      "metadata": {
        "id": "t3a1vpaOnWP4"
      },
      "execution_count": 6,
      "outputs": []
    },
    {
      "cell_type": "code",
      "source": [
        "curr.execute(\"select * from emp\")\n",
        "x= curr.fetchall()\n",
        "for i in x:\n",
        "  print(i)"
      ],
      "metadata": {
        "colab": {
          "base_uri": "https://localhost:8080/"
        },
        "id": "jfmEl4f8nbqw",
        "outputId": "40c91fa5-75a6-4dec-bc59-70ab665fb429"
      },
      "execution_count": 7,
      "outputs": [
        {
          "output_type": "stream",
          "name": "stdout",
          "text": [
            "(4, 'bbb', 23, 'm', 34000.0, 101)\n",
            "(5, 'ccc', 44, 'f', 36000.0, 102)\n",
            "(1, 'ddd', 33, 'm', 45000.0, 103)\n",
            "(2, 'eee', 34, 'f', 23000.0, 104)\n",
            "(3, 'fff', 45, 'T', 48000.0, 105)\n",
            "(6, 'aaa', 33, 'm', 34000.0, 102)\n",
            "(7, 'ggg', 34, 'f', 36000.0, 103)\n"
          ]
        }
      ]
    },
    {
      "cell_type": "code",
      "source": [],
      "metadata": {
        "id": "7Qq_F89ao0Cx"
      },
      "execution_count": null,
      "outputs": []
    }
  ]
}