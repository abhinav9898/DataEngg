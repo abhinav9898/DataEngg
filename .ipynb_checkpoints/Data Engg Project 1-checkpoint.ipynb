{
 "cells": [
  {
   "cell_type": "code",
   "execution_count": 3,
   "id": "c43b0368",
   "metadata": {},
   "outputs": [
    {
     "name": "stdout",
     "output_type": "stream",
     "text": [
      "Requirement already satisfied: pandas in c:\\users\\prera\\appdata\\local\\programs\\python\\python311\\lib\\site-packages (1.5.3)Note: you may need to restart the kernel to use updated packages.\n",
      "\n",
      "Requirement already satisfied: python-dateutil>=2.8.1 in c:\\users\\prera\\appdata\\local\\programs\\python\\python311\\lib\\site-packages (from pandas) (2.8.2)\n",
      "Requirement already satisfied: pytz>=2020.1 in c:\\users\\prera\\appdata\\local\\programs\\python\\python311\\lib\\site-packages (from pandas) (2022.7.1)\n",
      "Requirement already satisfied: numpy>=1.21.0 in c:\\users\\prera\\appdata\\local\\programs\\python\\python311\\lib\\site-packages (from pandas) (1.24.2)\n",
      "Requirement already satisfied: six>=1.5 in c:\\users\\prera\\appdata\\local\\programs\\python\\python311\\lib\\site-packages (from python-dateutil>=2.8.1->pandas) (1.16.0)\n"
     ]
    }
   ],
   "source": [
    "pip install pandas"
   ]
  },
  {
   "cell_type": "code",
   "execution_count": 4,
   "id": "5f895c25",
   "metadata": {},
   "outputs": [],
   "source": [
    "import psycopg2\n",
    "import pandas as pd"
   ]
  },
  {
   "cell_type": "code",
   "execution_count": 5,
   "id": "e2be6832",
   "metadata": {},
   "outputs": [],
   "source": [
    "def create_database():\n",
    "    conn= psycopg2.connect(\"host=localhost dbname=postgres user=postgres password=@Abhinav98\")\n",
    "    conn.set_session(autocommit=True)\n",
    "    cur=conn.cursor()\n",
    "    \n",
    "    cur.execute(\"DROP DATABASE IF EXISTS forbes\")\n",
    "    cur.execute(\"CREATE DATABASE forbes\")\n",
    "    \n",
    "    conn.close()\n",
    "    \n",
    "    conn= psycopg2.connect(\"host=localhost dbname=forbes user=postgres password=@Abhinav98\")\n",
    "    cur=conn.cursor()\n",
    "    \n",
    "    return cur, conn"
   ]
  },
  {
   "cell_type": "code",
   "execution_count": 6,
   "id": "7cb807dd",
   "metadata": {},
   "outputs": [],
   "source": [
    "def drop_tables(cur, conn):\n",
    "    for query in drop_table_queries:\n",
    "        cur.execute(query)\n",
    "        conn.commit()"
   ]
  },
  {
   "cell_type": "code",
   "execution_count": 7,
   "id": "dbcb0fce",
   "metadata": {},
   "outputs": [],
   "source": [
    "def create_tables(cur, conn):\n",
    "    for query in create_table_queries:\n",
    "        cur.execute(query)\n",
    "        conn.commit()"
   ]
  },
  {
   "cell_type": "code",
   "execution_count": 8,
   "id": "92cf49bd",
   "metadata": {},
   "outputs": [],
   "source": [
    "ForbesRich= pd.read_csv(\"forbes_dataset_2022/forbes_rich_2022.csv\")"
   ]
  },
  {
   "cell_type": "code",
   "execution_count": 9,
   "id": "9aee4876",
   "metadata": {},
   "outputs": [
    {
     "data": {
      "text/html": [
       "<div>\n",
       "<style scoped>\n",
       "    .dataframe tbody tr th:only-of-type {\n",
       "        vertical-align: middle;\n",
       "    }\n",
       "\n",
       "    .dataframe tbody tr th {\n",
       "        vertical-align: top;\n",
       "    }\n",
       "\n",
       "    .dataframe thead th {\n",
       "        text-align: right;\n",
       "    }\n",
       "</style>\n",
       "<table border=\"1\" class=\"dataframe\">\n",
       "  <thead>\n",
       "    <tr style=\"text-align: right;\">\n",
       "      <th></th>\n",
       "      <th>rank</th>\n",
       "      <th>personName</th>\n",
       "      <th>age</th>\n",
       "      <th>finalWorth</th>\n",
       "      <th>category</th>\n",
       "      <th>source</th>\n",
       "      <th>country</th>\n",
       "      <th>state</th>\n",
       "      <th>city</th>\n",
       "      <th>organization</th>\n",
       "      <th>selfMade</th>\n",
       "      <th>gender</th>\n",
       "      <th>birthDate</th>\n",
       "      <th>title</th>\n",
       "      <th>philanthropyScore</th>\n",
       "      <th>bio</th>\n",
       "      <th>about</th>\n",
       "    </tr>\n",
       "  </thead>\n",
       "  <tbody>\n",
       "    <tr>\n",
       "      <th>0</th>\n",
       "      <td>1</td>\n",
       "      <td>Elon Musk</td>\n",
       "      <td>50.0</td>\n",
       "      <td>219000</td>\n",
       "      <td>Automotive</td>\n",
       "      <td>Tesla, SpaceX</td>\n",
       "      <td>United States</td>\n",
       "      <td>Texas</td>\n",
       "      <td>Austin</td>\n",
       "      <td>Tesla</td>\n",
       "      <td>True</td>\n",
       "      <td>M</td>\n",
       "      <td>6/28/1971</td>\n",
       "      <td>CEO</td>\n",
       "      <td>1.0</td>\n",
       "      <td>Elon Musk is working to revolutionize transpor...</td>\n",
       "      <td>Musk was accepted to a graduate program at Sta...</td>\n",
       "    </tr>\n",
       "    <tr>\n",
       "      <th>1</th>\n",
       "      <td>2</td>\n",
       "      <td>Jeff Bezos</td>\n",
       "      <td>58.0</td>\n",
       "      <td>171000</td>\n",
       "      <td>Technology</td>\n",
       "      <td>Amazon</td>\n",
       "      <td>United States</td>\n",
       "      <td>Washington</td>\n",
       "      <td>Seattle</td>\n",
       "      <td>Amazon</td>\n",
       "      <td>True</td>\n",
       "      <td>M</td>\n",
       "      <td>1/12/1964</td>\n",
       "      <td>Entrepreneur</td>\n",
       "      <td>1.0</td>\n",
       "      <td>Jeff Bezos founded e-commerce giant Amazon in ...</td>\n",
       "      <td>Growing up, Jeff Bezos worked summers on his g...</td>\n",
       "    </tr>\n",
       "    <tr>\n",
       "      <th>2</th>\n",
       "      <td>3</td>\n",
       "      <td>Bernard Arnault &amp; family</td>\n",
       "      <td>73.0</td>\n",
       "      <td>158000</td>\n",
       "      <td>Fashion &amp; Retail</td>\n",
       "      <td>LVMH</td>\n",
       "      <td>France</td>\n",
       "      <td>NaN</td>\n",
       "      <td>Paris</td>\n",
       "      <td>LVMH Moët Hennessy Louis Vuitton</td>\n",
       "      <td>False</td>\n",
       "      <td>M</td>\n",
       "      <td>3/5/1949</td>\n",
       "      <td>Chairman and CEO</td>\n",
       "      <td>NaN</td>\n",
       "      <td>Bernard Arnault oversees the LVMH empire of so...</td>\n",
       "      <td>Arnault apparently wooed his wife, Helene Merc...</td>\n",
       "    </tr>\n",
       "    <tr>\n",
       "      <th>3</th>\n",
       "      <td>4</td>\n",
       "      <td>Bill Gates</td>\n",
       "      <td>66.0</td>\n",
       "      <td>129000</td>\n",
       "      <td>Technology</td>\n",
       "      <td>Microsoft</td>\n",
       "      <td>United States</td>\n",
       "      <td>Washington</td>\n",
       "      <td>Medina</td>\n",
       "      <td>Bill &amp; Melinda Gates Foundation</td>\n",
       "      <td>True</td>\n",
       "      <td>M</td>\n",
       "      <td>10/28/1955</td>\n",
       "      <td>Cofounder</td>\n",
       "      <td>4.0</td>\n",
       "      <td>Bill Gates turned his fortune from software fi...</td>\n",
       "      <td>When Gates was a kid, he spent so much time re...</td>\n",
       "    </tr>\n",
       "    <tr>\n",
       "      <th>4</th>\n",
       "      <td>5</td>\n",
       "      <td>Warren Buffett</td>\n",
       "      <td>91.0</td>\n",
       "      <td>118000</td>\n",
       "      <td>Finance &amp; Investments</td>\n",
       "      <td>Berkshire Hathaway</td>\n",
       "      <td>United States</td>\n",
       "      <td>Nebraska</td>\n",
       "      <td>Omaha</td>\n",
       "      <td>Berkshire Hathaway</td>\n",
       "      <td>True</td>\n",
       "      <td>M</td>\n",
       "      <td>8/30/1930</td>\n",
       "      <td>CEO</td>\n",
       "      <td>5.0</td>\n",
       "      <td>Known as the \"Oracle of Omaha,\" Warren Buffett...</td>\n",
       "      <td>Buffett still lives in the same Omaha, Nebrask...</td>\n",
       "    </tr>\n",
       "  </tbody>\n",
       "</table>\n",
       "</div>"
      ],
      "text/plain": [
       "   rank                personName   age  finalWorth               category  \\\n",
       "0     1                 Elon Musk  50.0      219000             Automotive   \n",
       "1     2                Jeff Bezos  58.0      171000             Technology   \n",
       "2     3  Bernard Arnault & family  73.0      158000       Fashion & Retail   \n",
       "3     4                Bill Gates  66.0      129000             Technology   \n",
       "4     5            Warren Buffett  91.0      118000  Finance & Investments   \n",
       "\n",
       "               source        country       state     city  \\\n",
       "0       Tesla, SpaceX  United States       Texas   Austin   \n",
       "1              Amazon  United States  Washington  Seattle   \n",
       "2                LVMH         France         NaN    Paris   \n",
       "3           Microsoft  United States  Washington   Medina   \n",
       "4  Berkshire Hathaway  United States    Nebraska    Omaha   \n",
       "\n",
       "                       organization  selfMade gender   birthDate  \\\n",
       "0                             Tesla      True      M   6/28/1971   \n",
       "1                            Amazon      True      M   1/12/1964   \n",
       "2  LVMH Moët Hennessy Louis Vuitton     False      M    3/5/1949   \n",
       "3   Bill & Melinda Gates Foundation      True      M  10/28/1955   \n",
       "4                Berkshire Hathaway      True      M   8/30/1930   \n",
       "\n",
       "              title  philanthropyScore  \\\n",
       "0               CEO                1.0   \n",
       "1      Entrepreneur                1.0   \n",
       "2  Chairman and CEO                NaN   \n",
       "3         Cofounder                4.0   \n",
       "4               CEO                5.0   \n",
       "\n",
       "                                                 bio  \\\n",
       "0  Elon Musk is working to revolutionize transpor...   \n",
       "1  Jeff Bezos founded e-commerce giant Amazon in ...   \n",
       "2  Bernard Arnault oversees the LVMH empire of so...   \n",
       "3  Bill Gates turned his fortune from software fi...   \n",
       "4  Known as the \"Oracle of Omaha,\" Warren Buffett...   \n",
       "\n",
       "                                               about  \n",
       "0  Musk was accepted to a graduate program at Sta...  \n",
       "1  Growing up, Jeff Bezos worked summers on his g...  \n",
       "2  Arnault apparently wooed his wife, Helene Merc...  \n",
       "3  When Gates was a kid, he spent so much time re...  \n",
       "4  Buffett still lives in the same Omaha, Nebrask...  "
      ]
     },
     "execution_count": 9,
     "metadata": {},
     "output_type": "execute_result"
    }
   ],
   "source": [
    "ForbesRich.head()"
   ]
  },
  {
   "cell_type": "code",
   "execution_count": 10,
   "id": "17ce4ff1",
   "metadata": {},
   "outputs": [],
   "source": [
    "ForbesRich_clean= ForbesRich[['rank', 'personName', 'age', 'finalWorth', 'category', 'source', 'about']]"
   ]
  },
  {
   "cell_type": "code",
   "execution_count": 11,
   "id": "e16503d8",
   "metadata": {},
   "outputs": [
    {
     "data": {
      "text/html": [
       "<div>\n",
       "<style scoped>\n",
       "    .dataframe tbody tr th:only-of-type {\n",
       "        vertical-align: middle;\n",
       "    }\n",
       "\n",
       "    .dataframe tbody tr th {\n",
       "        vertical-align: top;\n",
       "    }\n",
       "\n",
       "    .dataframe thead th {\n",
       "        text-align: right;\n",
       "    }\n",
       "</style>\n",
       "<table border=\"1\" class=\"dataframe\">\n",
       "  <thead>\n",
       "    <tr style=\"text-align: right;\">\n",
       "      <th></th>\n",
       "      <th>rank</th>\n",
       "      <th>personName</th>\n",
       "      <th>age</th>\n",
       "      <th>finalWorth</th>\n",
       "      <th>category</th>\n",
       "      <th>source</th>\n",
       "      <th>about</th>\n",
       "    </tr>\n",
       "  </thead>\n",
       "  <tbody>\n",
       "    <tr>\n",
       "      <th>0</th>\n",
       "      <td>1</td>\n",
       "      <td>Elon Musk</td>\n",
       "      <td>50.0</td>\n",
       "      <td>219000</td>\n",
       "      <td>Automotive</td>\n",
       "      <td>Tesla, SpaceX</td>\n",
       "      <td>Musk was accepted to a graduate program at Sta...</td>\n",
       "    </tr>\n",
       "    <tr>\n",
       "      <th>1</th>\n",
       "      <td>2</td>\n",
       "      <td>Jeff Bezos</td>\n",
       "      <td>58.0</td>\n",
       "      <td>171000</td>\n",
       "      <td>Technology</td>\n",
       "      <td>Amazon</td>\n",
       "      <td>Growing up, Jeff Bezos worked summers on his g...</td>\n",
       "    </tr>\n",
       "    <tr>\n",
       "      <th>2</th>\n",
       "      <td>3</td>\n",
       "      <td>Bernard Arnault &amp; family</td>\n",
       "      <td>73.0</td>\n",
       "      <td>158000</td>\n",
       "      <td>Fashion &amp; Retail</td>\n",
       "      <td>LVMH</td>\n",
       "      <td>Arnault apparently wooed his wife, Helene Merc...</td>\n",
       "    </tr>\n",
       "    <tr>\n",
       "      <th>3</th>\n",
       "      <td>4</td>\n",
       "      <td>Bill Gates</td>\n",
       "      <td>66.0</td>\n",
       "      <td>129000</td>\n",
       "      <td>Technology</td>\n",
       "      <td>Microsoft</td>\n",
       "      <td>When Gates was a kid, he spent so much time re...</td>\n",
       "    </tr>\n",
       "    <tr>\n",
       "      <th>4</th>\n",
       "      <td>5</td>\n",
       "      <td>Warren Buffett</td>\n",
       "      <td>91.0</td>\n",
       "      <td>118000</td>\n",
       "      <td>Finance &amp; Investments</td>\n",
       "      <td>Berkshire Hathaway</td>\n",
       "      <td>Buffett still lives in the same Omaha, Nebrask...</td>\n",
       "    </tr>\n",
       "  </tbody>\n",
       "</table>\n",
       "</div>"
      ],
      "text/plain": [
       "   rank                personName   age  finalWorth               category  \\\n",
       "0     1                 Elon Musk  50.0      219000             Automotive   \n",
       "1     2                Jeff Bezos  58.0      171000             Technology   \n",
       "2     3  Bernard Arnault & family  73.0      158000       Fashion & Retail   \n",
       "3     4                Bill Gates  66.0      129000             Technology   \n",
       "4     5            Warren Buffett  91.0      118000  Finance & Investments   \n",
       "\n",
       "               source                                              about  \n",
       "0       Tesla, SpaceX  Musk was accepted to a graduate program at Sta...  \n",
       "1              Amazon  Growing up, Jeff Bezos worked summers on his g...  \n",
       "2                LVMH  Arnault apparently wooed his wife, Helene Merc...  \n",
       "3           Microsoft  When Gates was a kid, he spent so much time re...  \n",
       "4  Berkshire Hathaway  Buffett still lives in the same Omaha, Nebrask...  "
      ]
     },
     "execution_count": 11,
     "metadata": {},
     "output_type": "execute_result"
    }
   ],
   "source": [
    "ForbesRich_clean.head()"
   ]
  },
  {
   "cell_type": "code",
   "execution_count": 12,
   "id": "f48f74bc",
   "metadata": {},
   "outputs": [],
   "source": [
    "ForbesCompany= pd.read_csv(\"forbes_dataset_2022/forbes_companies_2022.csv\")"
   ]
  },
  {
   "cell_type": "code",
   "execution_count": 13,
   "id": "5d06f0f4",
   "metadata": {},
   "outputs": [
    {
     "data": {
      "text/html": [
       "<div>\n",
       "<style scoped>\n",
       "    .dataframe tbody tr th:only-of-type {\n",
       "        vertical-align: middle;\n",
       "    }\n",
       "\n",
       "    .dataframe tbody tr th {\n",
       "        vertical-align: top;\n",
       "    }\n",
       "\n",
       "    .dataframe thead th {\n",
       "        text-align: right;\n",
       "    }\n",
       "</style>\n",
       "<table border=\"1\" class=\"dataframe\">\n",
       "  <thead>\n",
       "    <tr style=\"text-align: right;\">\n",
       "      <th></th>\n",
       "      <th>rank</th>\n",
       "      <th>global company</th>\n",
       "      <th>country</th>\n",
       "      <th>sales</th>\n",
       "      <th>profit</th>\n",
       "      <th>assets</th>\n",
       "      <th>market value</th>\n",
       "    </tr>\n",
       "  </thead>\n",
       "  <tbody>\n",
       "    <tr>\n",
       "      <th>0</th>\n",
       "      <td>1</td>\n",
       "      <td>Berkshire Hathaway</td>\n",
       "      <td>United States</td>\n",
       "      <td>$276.09 B</td>\n",
       "      <td>$89.8 B</td>\n",
       "      <td>$958.78 B</td>\n",
       "      <td>$741.48 B</td>\n",
       "    </tr>\n",
       "    <tr>\n",
       "      <th>1</th>\n",
       "      <td>2</td>\n",
       "      <td>ICBC</td>\n",
       "      <td>China</td>\n",
       "      <td>$208.13 B</td>\n",
       "      <td>$54.03 B</td>\n",
       "      <td>$5,518.51 B</td>\n",
       "      <td>$214.43 B</td>\n",
       "    </tr>\n",
       "    <tr>\n",
       "      <th>2</th>\n",
       "      <td>3</td>\n",
       "      <td>Saudi Arabian Oil Company (Saudi Aramco)</td>\n",
       "      <td>Saudi Arabia</td>\n",
       "      <td>$400.38 B</td>\n",
       "      <td>$105.36 B</td>\n",
       "      <td>$576.04 B</td>\n",
       "      <td>$2,292.08 B</td>\n",
       "    </tr>\n",
       "    <tr>\n",
       "      <th>3</th>\n",
       "      <td>4</td>\n",
       "      <td>JPMorgan Chase</td>\n",
       "      <td>United States</td>\n",
       "      <td>$124.54 B</td>\n",
       "      <td>$42.12 B</td>\n",
       "      <td>$3,954.69 B</td>\n",
       "      <td>$374.45 B</td>\n",
       "    </tr>\n",
       "    <tr>\n",
       "      <th>4</th>\n",
       "      <td>5</td>\n",
       "      <td>China Construction Bank</td>\n",
       "      <td>China</td>\n",
       "      <td>$202.07 B</td>\n",
       "      <td>$46.89 B</td>\n",
       "      <td>$4,746.95 B</td>\n",
       "      <td>$181.32 B</td>\n",
       "    </tr>\n",
       "  </tbody>\n",
       "</table>\n",
       "</div>"
      ],
      "text/plain": [
       "   rank                             global company        country     sales   \\\n",
       "0      1                        Berkshire Hathaway  United States  $276.09 B   \n",
       "1      2                                      ICBC          China  $208.13 B   \n",
       "2      3  Saudi Arabian Oil Company (Saudi Aramco)   Saudi Arabia  $400.38 B   \n",
       "3      4                            JPMorgan Chase  United States  $124.54 B   \n",
       "4      5                   China Construction Bank          China  $202.07 B   \n",
       "\n",
       "     profit        assets market value  \n",
       "0    $89.8 B    $958.78 B    $741.48 B  \n",
       "1   $54.03 B  $5,518.51 B    $214.43 B  \n",
       "2  $105.36 B    $576.04 B  $2,292.08 B  \n",
       "3   $42.12 B  $3,954.69 B    $374.45 B  \n",
       "4   $46.89 B  $4,746.95 B    $181.32 B  "
      ]
     },
     "execution_count": 13,
     "metadata": {},
     "output_type": "execute_result"
    }
   ],
   "source": [
    "ForbesCompany.head()"
   ]
  },
  {
   "cell_type": "code",
   "execution_count": 14,
   "id": "c9af79ce",
   "metadata": {},
   "outputs": [
    {
     "name": "stdout",
     "output_type": "stream",
     "text": [
      "      rank                                      global company        country  \\\n",
      "0         1                                 Berkshire Hathaway  United States   \n",
      "1         2                                               ICBC          China   \n",
      "2         3           Saudi Arabian Oil Company (Saudi Aramco)   Saudi Arabia   \n",
      "3         4                                     JPMorgan Chase  United States   \n",
      "4         5                            China Construction Bank          China   \n",
      "...     ...                                                ...            ...   \n",
      "1995   1995  Shenzhen Feima International Supply Chain Co.,...          China   \n",
      "1996   1997                                               NMDC          India   \n",
      "1997   1997                         Sichuan Changhong Electric          China   \n",
      "1998   1999                              Credit Bank of Moscow         Russia   \n",
      "1999   1999                                 Satellite Chemical          China   \n",
      "\n",
      "         sales     profit        assets market value  \n",
      "0     $276.09 B    $89.8 B    $958.78 B    $741.48 B  \n",
      "1     $208.13 B   $54.03 B  $5,518.51 B    $214.43 B  \n",
      "2     $400.38 B  $105.36 B    $576.04 B  $2,292.08 B  \n",
      "3     $124.54 B   $42.12 B  $3,954.69 B    $374.45 B  \n",
      "4     $202.07 B   $46.89 B  $4,746.95 B    $181.32 B  \n",
      "...         ...        ...          ...          ...  \n",
      "1995      $37 M    $1.41 B       $166 M      $1.14 B  \n",
      "1996    $3.52 B    $1.41 B      $5.71 B       $6.4 B  \n",
      "1997   $15.72 B    $53.1 M     $12.11 B      $1.96 B  \n",
      "1998    $2.53 B   $370.1 M     $45.15 B      $2.06 B  \n",
      "1999    $4.41 B   $931.3 M      $7.64 B      $9.52 B  \n",
      "\n",
      "[2000 rows x 7 columns]\n"
     ]
    }
   ],
   "source": [
    "print(ForbesCompany)"
   ]
  },
  {
   "cell_type": "code",
   "execution_count": 15,
   "id": "2ab1ca7d",
   "metadata": {},
   "outputs": [
    {
     "data": {
      "text/plain": [
       "Index(['rank ', 'global company', 'country', 'sales ', 'profit ', 'assets',\n",
       "       'market value'],\n",
       "      dtype='object')"
      ]
     },
     "execution_count": 15,
     "metadata": {},
     "output_type": "execute_result"
    }
   ],
   "source": [
    "ForbesCompany.columns"
   ]
  },
  {
   "cell_type": "code",
   "execution_count": 16,
   "id": "b66d750c",
   "metadata": {},
   "outputs": [],
   "source": [
    "ForbesCompany= ForbesCompany.drop(['sales '], axis=1)"
   ]
  },
  {
   "cell_type": "code",
   "execution_count": 17,
   "id": "6053c9d5",
   "metadata": {},
   "outputs": [
    {
     "data": {
      "text/html": [
       "<div>\n",
       "<style scoped>\n",
       "    .dataframe tbody tr th:only-of-type {\n",
       "        vertical-align: middle;\n",
       "    }\n",
       "\n",
       "    .dataframe tbody tr th {\n",
       "        vertical-align: top;\n",
       "    }\n",
       "\n",
       "    .dataframe thead th {\n",
       "        text-align: right;\n",
       "    }\n",
       "</style>\n",
       "<table border=\"1\" class=\"dataframe\">\n",
       "  <thead>\n",
       "    <tr style=\"text-align: right;\">\n",
       "      <th></th>\n",
       "      <th>rank</th>\n",
       "      <th>global company</th>\n",
       "      <th>country</th>\n",
       "      <th>profit</th>\n",
       "      <th>assets</th>\n",
       "      <th>market value</th>\n",
       "    </tr>\n",
       "  </thead>\n",
       "  <tbody>\n",
       "    <tr>\n",
       "      <th>0</th>\n",
       "      <td>1</td>\n",
       "      <td>Berkshire Hathaway</td>\n",
       "      <td>United States</td>\n",
       "      <td>$89.8 B</td>\n",
       "      <td>$958.78 B</td>\n",
       "      <td>$741.48 B</td>\n",
       "    </tr>\n",
       "    <tr>\n",
       "      <th>1</th>\n",
       "      <td>2</td>\n",
       "      <td>ICBC</td>\n",
       "      <td>China</td>\n",
       "      <td>$54.03 B</td>\n",
       "      <td>$5,518.51 B</td>\n",
       "      <td>$214.43 B</td>\n",
       "    </tr>\n",
       "    <tr>\n",
       "      <th>2</th>\n",
       "      <td>3</td>\n",
       "      <td>Saudi Arabian Oil Company (Saudi Aramco)</td>\n",
       "      <td>Saudi Arabia</td>\n",
       "      <td>$105.36 B</td>\n",
       "      <td>$576.04 B</td>\n",
       "      <td>$2,292.08 B</td>\n",
       "    </tr>\n",
       "    <tr>\n",
       "      <th>3</th>\n",
       "      <td>4</td>\n",
       "      <td>JPMorgan Chase</td>\n",
       "      <td>United States</td>\n",
       "      <td>$42.12 B</td>\n",
       "      <td>$3,954.69 B</td>\n",
       "      <td>$374.45 B</td>\n",
       "    </tr>\n",
       "    <tr>\n",
       "      <th>4</th>\n",
       "      <td>5</td>\n",
       "      <td>China Construction Bank</td>\n",
       "      <td>China</td>\n",
       "      <td>$46.89 B</td>\n",
       "      <td>$4,746.95 B</td>\n",
       "      <td>$181.32 B</td>\n",
       "    </tr>\n",
       "  </tbody>\n",
       "</table>\n",
       "</div>"
      ],
      "text/plain": [
       "   rank                             global company        country    profit   \\\n",
       "0      1                        Berkshire Hathaway  United States    $89.8 B   \n",
       "1      2                                      ICBC          China   $54.03 B   \n",
       "2      3  Saudi Arabian Oil Company (Saudi Aramco)   Saudi Arabia  $105.36 B   \n",
       "3      4                            JPMorgan Chase  United States   $42.12 B   \n",
       "4      5                   China Construction Bank          China   $46.89 B   \n",
       "\n",
       "        assets market value  \n",
       "0    $958.78 B    $741.48 B  \n",
       "1  $5,518.51 B    $214.43 B  \n",
       "2    $576.04 B  $2,292.08 B  \n",
       "3  $3,954.69 B    $374.45 B  \n",
       "4  $4,746.95 B    $181.32 B  "
      ]
     },
     "execution_count": 17,
     "metadata": {},
     "output_type": "execute_result"
    }
   ],
   "source": [
    "ForbesCompany.head()"
   ]
  },
  {
   "cell_type": "code",
   "execution_count": 83,
   "id": "9df0bf51",
   "metadata": {},
   "outputs": [],
   "source": [
    "conn= psycopg2.connect(\"host=localhost dbname=forbes user=postgres password=@Abhinav98\")\n",
    "cur=conn.cursor()"
   ]
  },
  {
   "cell_type": "code",
   "execution_count": 84,
   "id": "f3b93a60",
   "metadata": {},
   "outputs": [
    {
     "data": {
      "text/plain": [
       "Index(['rank', 'personName', 'age', 'finalWorth', 'category', 'source',\n",
       "       'about'],\n",
       "      dtype='object')"
      ]
     },
     "execution_count": 84,
     "metadata": {},
     "output_type": "execute_result"
    }
   ],
   "source": [
    "ForbesRich_clean.columns"
   ]
  },
  {
   "cell_type": "code",
   "execution_count": 20,
   "id": "131df251",
   "metadata": {},
   "outputs": [],
   "source": [
    "forbes_rich_create= (\"\"\"CREATE TABLE IF NOT EXISTS forbesRich(\n",
    "rank INT not null,\n",
    "personName VARCHAR PRIMARY KEY,\n",
    "age INT,\n",
    "finalWorth VARCHAR,\n",
    "category VARCHAR,\n",
    "source VARCHAR,\n",
    "about VARCHAR)\"\"\")"
   ]
  },
  {
   "cell_type": "code",
   "execution_count": 21,
   "id": "c51c5342",
   "metadata": {},
   "outputs": [],
   "source": [
    "cur.execute(forbes_rich_create)\n",
    "conn.commit()"
   ]
  },
  {
   "cell_type": "code",
   "execution_count": 78,
   "id": "3ed0fb3a",
   "metadata": {},
   "outputs": [
    {
     "data": {
      "text/plain": [
       "Index(['rank ', 'global company', 'country', 'profit ', 'assets',\n",
       "       'market value'],\n",
       "      dtype='object')"
      ]
     },
     "execution_count": 78,
     "metadata": {},
     "output_type": "execute_result"
    }
   ],
   "source": [
    "ForbesCompany.columns"
   ]
  },
  {
   "cell_type": "code",
   "execution_count": 85,
   "id": "3af59fc2",
   "metadata": {},
   "outputs": [],
   "source": [
    "forbes_company_create= (\"\"\"CREATE TABLE IF NOT EXISTS forbescompany(\n",
    "rank INT,\n",
    "global_company VARCHAR,\n",
    "country VARCHAR,\n",
    "profit  VARCHAR,\n",
    "assets VARCHAR,\n",
    "market_value VARCHAR);\"\"\")"
   ]
  },
  {
   "cell_type": "code",
   "execution_count": 86,
   "id": "0cff7c23",
   "metadata": {},
   "outputs": [],
   "source": [
    "cur.execute(forbes_company_create)\n",
    "conn.commit()"
   ]
  },
  {
   "cell_type": "code",
   "execution_count": 87,
   "id": "a0a59881",
   "metadata": {},
   "outputs": [
    {
     "data": {
      "text/plain": [
       "Index(['rank', 'personName', 'age', 'finalWorth', 'category', 'source',\n",
       "       'about'],\n",
       "      dtype='object')"
      ]
     },
     "execution_count": 87,
     "metadata": {},
     "output_type": "execute_result"
    }
   ],
   "source": [
    "ForbesRich_clean.columns"
   ]
  },
  {
   "cell_type": "code",
   "execution_count": 64,
   "id": "aa93254b",
   "metadata": {},
   "outputs": [],
   "source": [
    "forbes_rich_insert = (\"\"\"INSERT INTO forbesrich(\n",
    "rank,\n",
    "personname,\n",
    "age,\n",
    "finalworth,\n",
    "category,\n",
    "source,\n",
    "about)\n",
    "VALUES (%s, %s, %s, %s, %s, %s, %s)\n",
    "\"\"\")"
   ]
  },
  {
   "cell_type": "code",
   "execution_count": 95,
   "id": "71b32d9b",
   "metadata": {},
   "outputs": [],
   "source": [
    "forbes_company_insert= (\"\"\"INSERT INTO forbescompany(\n",
    "rank,\n",
    "global_company,\n",
    "country,\n",
    "profit,\n",
    "assets,\n",
    "market_value)\n",
    "VALUES (%s, %s, %s, %s, %s, %s)\n",
    "\"\"\")"
   ]
  },
  {
   "cell_type": "code",
   "execution_count": 96,
   "id": "50b69c5e",
   "metadata": {},
   "outputs": [],
   "source": [
    "for i, row in ForbesCompany.iterrows():\n",
    "    cur.execute(forbes_company_insert, list(row))"
   ]
  },
  {
   "cell_type": "code",
   "execution_count": 105,
   "id": "046c23f5",
   "metadata": {
    "scrolled": true
   },
   "outputs": [
    {
     "data": {
      "text/plain": [
       "'rank ,global_company,country,profit ,assets,market_value'"
      ]
     },
     "execution_count": 105,
     "metadata": {},
     "output_type": "execute_result"
    }
   ],
   "source": [
    "','.join(list(ForbesCompany.columns))"
   ]
  },
  {
   "cell_type": "code",
   "execution_count": 104,
   "id": "2f027012",
   "metadata": {},
   "outputs": [],
   "source": [
    "ForbesCompany.rename(columns={'global company':'global_company','market value':'market_value'},inplace=True)"
   ]
  },
  {
   "cell_type": "code",
   "execution_count": 97,
   "id": "71b6a780",
   "metadata": {},
   "outputs": [],
   "source": [
    "conn.commit()"
   ]
  },
  {
   "cell_type": "code",
   "execution_count": 99,
   "id": "c843fb57",
   "metadata": {},
   "outputs": [],
   "source": [
    "def execute_many(conn, df, table):\n",
    "    \"\"\"\n",
    "    Using cursor.executemany() to insert the dataframe\n",
    "    \"\"\"\n",
    "    # Create a list of tupples from the dataframe values\n",
    "    tuples = [tuple(x) for x in df.to_numpy()]\n",
    "    # Comma-separated dataframe columns\n",
    "    cols = ','.join(list(df.columns))\n",
    "    # SQL quert to execute\n",
    "    query  = \"INSERT INTO %s(%s) VALUES(%%s,%%s,%%s,%%s,%%s,%%s)\" % (table, cols)\n",
    "    cursor = conn.cursor()\n",
    "    try:\n",
    "        cursor.executemany(query, tuples)\n",
    "        conn.commit()\n",
    "    except (Exception, psycopg2.DatabaseError) as error:\n",
    "        print(\"Error: %s\" % error)\n",
    "        conn.rollback()\n",
    "        cursor.close()\n",
    "        return 1\n",
    "    print(\"execute_many() done\")\n",
    "    cursor.close()"
   ]
  },
  {
   "cell_type": "code",
   "execution_count": 100,
   "id": "a1c464fd",
   "metadata": {},
   "outputs": [
    {
     "data": {
      "text/plain": [
       "0"
      ]
     },
     "execution_count": 100,
     "metadata": {},
     "output_type": "execute_result"
    }
   ],
   "source": [
    "conn.closed"
   ]
  },
  {
   "cell_type": "code",
   "execution_count": 110,
   "id": "0c087d35",
   "metadata": {},
   "outputs": [
    {
     "name": "stdout",
     "output_type": "stream",
     "text": [
      "execute_many() done\n"
     ]
    }
   ],
   "source": [
    "execute_many(conn, ForbesCompany, 'forbesC1')"
   ]
  },
  {
   "cell_type": "code",
   "execution_count": 108,
   "id": "727a1052",
   "metadata": {},
   "outputs": [],
   "source": [
    "forbes_company1_create= (\"\"\"CREATE TABLE IF NOT EXISTS forbesC1(\n",
    "rank INT,\n",
    "global_company VARCHAR,\n",
    "country VARCHAR,\n",
    "profit  VARCHAR,\n",
    "assets VARCHAR,\n",
    "market_value VARCHAR);\"\"\")"
   ]
  },
  {
   "cell_type": "code",
   "execution_count": 109,
   "id": "79810929",
   "metadata": {},
   "outputs": [],
   "source": [
    "cur.execute(forbes_company1_create)\n",
    "conn.commit()"
   ]
  },
  {
   "cell_type": "code",
   "execution_count": null,
   "id": "8a72f178",
   "metadata": {},
   "outputs": [],
   "source": []
  }
 ],
 "metadata": {
  "kernelspec": {
   "display_name": "Python 3 (ipykernel)",
   "language": "python",
   "name": "python3"
  },
  "language_info": {
   "codemirror_mode": {
    "name": "ipython",
    "version": 3
   },
   "file_extension": ".py",
   "mimetype": "text/x-python",
   "name": "python",
   "nbconvert_exporter": "python",
   "pygments_lexer": "ipython3",
   "version": "3.11.2"
  }
 },
 "nbformat": 4,
 "nbformat_minor": 5
}
